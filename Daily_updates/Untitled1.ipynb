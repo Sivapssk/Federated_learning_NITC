{
 "cells": [
  {
   "cell_type": "code",
   "execution_count": 1,
   "id": "bc75fb0b-ae1c-48ef-b5ab-677f3d607fcf",
   "metadata": {},
   "outputs": [],
   "source": [
    "##iid_syn_ima_sharing"
   ]
  },
  {
   "cell_type": "code",
   "execution_count": null,
   "id": "a858aefe-a6d6-4a8b-a348-39c0cd6f9fe1",
   "metadata": {},
   "outputs": [],
   "source": []
  },
  {
   "cell_type": "code",
   "execution_count": null,
   "id": "d48c130f-7c1b-43e0-959d-0ed218274864",
   "metadata": {},
   "outputs": [],
   "source": []
  }
 ],
 "metadata": {
  "kernelspec": {
   "display_name": "Python 3 (ipykernel)",
   "language": "python",
   "name": "python3"
  },
  "language_info": {
   "codemirror_mode": {
    "name": "ipython",
    "version": 3
   },
   "file_extension": ".py",
   "mimetype": "text/x-python",
   "name": "python",
   "nbconvert_exporter": "python",
   "pygments_lexer": "ipython3",
   "version": "3.12.7"
  }
 },
 "nbformat": 4,
 "nbformat_minor": 5
}
