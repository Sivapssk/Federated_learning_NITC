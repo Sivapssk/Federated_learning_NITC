{
 "cells": [
  {
   "cell_type": "code",
   "execution_count": 1,
   "id": "152901af-656d-4634-9687-227b86cca8bb",
   "metadata": {},
   "outputs": [
    {
     "name": "stdout",
     "output_type": "stream",
     "text": [
      "hi\n"
     ]
    }
   ],
   "source": [
    "print(\"hi\")"
   ]
  },
  {
   "cell_type": "code",
   "execution_count": 8,
   "id": "e58b1a9a-12d8-41b2-9eca-5df0ba2db1da",
   "metadata": {},
   "outputs": [
    {
     "name": "stdout",
     "output_type": "stream",
     "text": [
      "Requirement already satisfied: kaggle in c:\\users\\hp\\desktop\\new folder\\lib\\site-packages (1.7.4.5)\n",
      "Requirement already satisfied: bleach in c:\\users\\hp\\desktop\\new folder\\lib\\site-packages (from kaggle) (4.1.0)\n",
      "Requirement already satisfied: certifi>=14.05.14 in c:\\users\\hp\\desktop\\new folder\\lib\\site-packages (from kaggle) (2024.8.30)\n",
      "Requirement already satisfied: charset-normalizer in c:\\users\\hp\\desktop\\new folder\\lib\\site-packages (from kaggle) (3.3.2)\n",
      "Requirement already satisfied: idna in c:\\users\\hp\\desktop\\new folder\\lib\\site-packages (from kaggle) (3.7)\n",
      "Requirement already satisfied: protobuf in c:\\users\\hp\\desktop\\new folder\\lib\\site-packages (from kaggle) (4.25.3)\n",
      "Requirement already satisfied: python-dateutil>=2.5.3 in c:\\users\\hp\\desktop\\new folder\\lib\\site-packages (from kaggle) (2.9.0.post0)\n",
      "Requirement already satisfied: python-slugify in c:\\users\\hp\\desktop\\new folder\\lib\\site-packages (from kaggle) (5.0.2)\n",
      "Requirement already satisfied: requests in c:\\users\\hp\\desktop\\new folder\\lib\\site-packages (from kaggle) (2.32.3)\n",
      "Requirement already satisfied: setuptools>=21.0.0 in c:\\users\\hp\\desktop\\new folder\\lib\\site-packages (from kaggle) (75.1.0)\n",
      "Requirement already satisfied: six>=1.10 in c:\\users\\hp\\desktop\\new folder\\lib\\site-packages (from kaggle) (1.16.0)\n",
      "Requirement already satisfied: text-unidecode in c:\\users\\hp\\desktop\\new folder\\lib\\site-packages (from kaggle) (1.3)\n",
      "Requirement already satisfied: tqdm in c:\\users\\hp\\desktop\\new folder\\lib\\site-packages (from kaggle) (4.66.5)\n",
      "Requirement already satisfied: urllib3>=1.15.1 in c:\\users\\hp\\desktop\\new folder\\lib\\site-packages (from kaggle) (2.2.3)\n",
      "Requirement already satisfied: webencodings in c:\\users\\hp\\desktop\\new folder\\lib\\site-packages (from kaggle) (0.5.1)\n",
      "Requirement already satisfied: packaging in c:\\users\\hp\\desktop\\new folder\\lib\\site-packages (from bleach->kaggle) (24.1)\n",
      "Requirement already satisfied: colorama in c:\\users\\hp\\desktop\\new folder\\lib\\site-packages (from tqdm->kaggle) (0.4.6)\n",
      "Collecting kagglehub\n",
      "  Downloading kagglehub-0.3.12-py3-none-any.whl.metadata (38 kB)\n",
      "Requirement already satisfied: packaging in c:\\users\\hp\\desktop\\new folder\\lib\\site-packages (from kagglehub) (24.1)\n",
      "Requirement already satisfied: pyyaml in c:\\users\\hp\\desktop\\new folder\\lib\\site-packages (from kagglehub) (6.0.1)\n",
      "Requirement already satisfied: requests in c:\\users\\hp\\desktop\\new folder\\lib\\site-packages (from kagglehub) (2.32.3)\n",
      "Requirement already satisfied: tqdm in c:\\users\\hp\\desktop\\new folder\\lib\\site-packages (from kagglehub) (4.66.5)\n",
      "Requirement already satisfied: charset-normalizer<4,>=2 in c:\\users\\hp\\desktop\\new folder\\lib\\site-packages (from requests->kagglehub) (3.3.2)\n",
      "Requirement already satisfied: idna<4,>=2.5 in c:\\users\\hp\\desktop\\new folder\\lib\\site-packages (from requests->kagglehub) (3.7)\n",
      "Requirement already satisfied: urllib3<3,>=1.21.1 in c:\\users\\hp\\desktop\\new folder\\lib\\site-packages (from requests->kagglehub) (2.2.3)\n",
      "Requirement already satisfied: certifi>=2017.4.17 in c:\\users\\hp\\desktop\\new folder\\lib\\site-packages (from requests->kagglehub) (2024.8.30)\n",
      "Requirement already satisfied: colorama in c:\\users\\hp\\desktop\\new folder\\lib\\site-packages (from tqdm->kagglehub) (0.4.6)\n",
      "Downloading kagglehub-0.3.12-py3-none-any.whl (67 kB)\n",
      "Installing collected packages: kagglehub\n",
      "Successfully installed kagglehub-0.3.12\n"
     ]
    }
   ],
   "source": [
    "!pip install kaggle\n",
    "!pip install kagglehub\n"
   ]
  },
  {
   "cell_type": "code",
   "execution_count": 9,
   "id": "97f1552b-5694-40d1-8e6e-827bca005ab3",
   "metadata": {},
   "outputs": [],
   "source": [
    "import kagglehub"
   ]
  },
  {
   "cell_type": "code",
   "execution_count": 10,
   "id": "0df61654-f93d-4059-bd89-5cac304330ab",
   "metadata": {},
   "outputs": [
    {
     "name": "stdout",
     "output_type": "stream",
     "text": [
      "Downloading from https://www.kaggle.com/api/v1/datasets/download/sujaykapadnis/vehicle-type-image-dataset?dataset_version_number=1...\n"
     ]
    },
    {
     "name": "stderr",
     "output_type": "stream",
     "text": [
      "100%|██████████| 131M/131M [00:09<00:00, 14.8MB/s] "
     ]
    },
    {
     "name": "stdout",
     "output_type": "stream",
     "text": [
      "Extracting files...\n"
     ]
    },
    {
     "name": "stderr",
     "output_type": "stream",
     "text": [
      "\n"
     ]
    },
    {
     "name": "stdout",
     "output_type": "stream",
     "text": [
      "Path to dataset files: C:\\Users\\hp\\.cache\\kagglehub\\datasets\\sujaykapadnis\\vehicle-type-image-dataset\\versions\\1\n"
     ]
    }
   ],
   "source": [
    "import kagglehub\n",
    "\n",
    "# Download latest version\n",
    "path = kagglehub.dataset_download(\"sujaykapadnis/vehicle-type-image-dataset\")\n",
    "\n",
    "print(\"Path to dataset files:\", path)"
   ]
  },
  {
   "cell_type": "code",
   "execution_count": 11,
   "id": "57ea039f-91d3-459b-aa53-e949a20355a5",
   "metadata": {},
   "outputs": [
    {
     "name": "stdout",
     "output_type": "stream",
     "text": [
      "Collecting flwr\n",
      "  Downloading flwr-1.18.0-py3-none-any.whl.metadata (15 kB)\n",
      "Collecting torch\n",
      "  Downloading torch-2.7.0-cp312-cp312-win_amd64.whl.metadata (29 kB)\n",
      "Collecting torchvision\n",
      "  Downloading torchvision-0.22.0-cp312-cp312-win_amd64.whl.metadata (6.3 kB)\n",
      "Requirement already satisfied: kagglehub in c:\\users\\hp\\desktop\\new folder\\lib\\site-packages (0.3.12)\n",
      "Collecting cryptography<45.0.0,>=44.0.1 (from flwr)\n",
      "  Downloading cryptography-44.0.3-cp39-abi3-win_amd64.whl.metadata (5.7 kB)\n",
      "Collecting grpcio!=1.65.0,<2.0.0,>=1.62.3 (from flwr)\n",
      "  Downloading grpcio-1.71.0-cp312-cp312-win_amd64.whl.metadata (4.0 kB)\n",
      "Collecting iterators<0.0.3,>=0.0.2 (from flwr)\n",
      "  Downloading iterators-0.0.2-py3-none-any.whl.metadata (2.5 kB)\n",
      "Requirement already satisfied: numpy<3.0.0,>=1.26.0 in c:\\users\\hp\\desktop\\new folder\\lib\\site-packages (from flwr) (1.26.4)\n",
      "Collecting pathspec<0.13.0,>=0.12.1 (from flwr)\n",
      "  Downloading pathspec-0.12.1-py3-none-any.whl.metadata (21 kB)\n",
      "Requirement already satisfied: protobuf<5.0.0,>=4.21.6 in c:\\users\\hp\\desktop\\new folder\\lib\\site-packages (from flwr) (4.25.3)\n",
      "Collecting pycryptodome<4.0.0,>=3.18.0 (from flwr)\n",
      "  Downloading pycryptodome-3.22.0-cp37-abi3-win_amd64.whl.metadata (3.4 kB)\n",
      "Collecting pyyaml<7.0.0,>=6.0.2 (from flwr)\n",
      "  Downloading PyYAML-6.0.2-cp312-cp312-win_amd64.whl.metadata (2.1 kB)\n",
      "Requirement already satisfied: requests<3.0.0,>=2.31.0 in c:\\users\\hp\\desktop\\new folder\\lib\\site-packages (from flwr) (2.32.3)\n",
      "Requirement already satisfied: rich<14.0.0,>=13.5.0 in c:\\users\\hp\\desktop\\new folder\\lib\\site-packages (from flwr) (13.7.1)\n",
      "Requirement already satisfied: tomli<3.0.0,>=2.0.1 in c:\\users\\hp\\desktop\\new folder\\lib\\site-packages (from flwr) (2.0.1)\n",
      "Collecting tomli-w<2.0.0,>=1.0.0 (from flwr)\n",
      "  Downloading tomli_w-1.2.0-py3-none-any.whl.metadata (5.7 kB)\n",
      "Collecting typer<0.13.0,>=0.12.5 (from flwr)\n",
      "  Downloading typer-0.12.5-py3-none-any.whl.metadata (15 kB)\n",
      "Requirement already satisfied: filelock in c:\\users\\hp\\desktop\\new folder\\lib\\site-packages (from torch) (3.13.1)\n",
      "Requirement already satisfied: typing-extensions>=4.10.0 in c:\\users\\hp\\desktop\\new folder\\lib\\site-packages (from torch) (4.11.0)\n",
      "Collecting sympy>=1.13.3 (from torch)\n",
      "  Downloading sympy-1.14.0-py3-none-any.whl.metadata (12 kB)\n",
      "Requirement already satisfied: networkx in c:\\users\\hp\\desktop\\new folder\\lib\\site-packages (from torch) (3.3)\n",
      "Requirement already satisfied: jinja2 in c:\\users\\hp\\desktop\\new folder\\lib\\site-packages (from torch) (3.1.4)\n",
      "Requirement already satisfied: fsspec in c:\\users\\hp\\desktop\\new folder\\lib\\site-packages (from torch) (2024.6.1)\n",
      "Requirement already satisfied: setuptools in c:\\users\\hp\\desktop\\new folder\\lib\\site-packages (from torch) (75.1.0)\n",
      "Requirement already satisfied: pillow!=8.3.*,>=5.3.0 in c:\\users\\hp\\desktop\\new folder\\lib\\site-packages (from torchvision) (10.4.0)\n",
      "Requirement already satisfied: packaging in c:\\users\\hp\\desktop\\new folder\\lib\\site-packages (from kagglehub) (24.1)\n",
      "Requirement already satisfied: tqdm in c:\\users\\hp\\desktop\\new folder\\lib\\site-packages (from kagglehub) (4.66.5)\n",
      "Requirement already satisfied: cffi>=1.12 in c:\\users\\hp\\desktop\\new folder\\lib\\site-packages (from cryptography<45.0.0,>=44.0.1->flwr) (1.17.1)\n",
      "Requirement already satisfied: charset-normalizer<4,>=2 in c:\\users\\hp\\desktop\\new folder\\lib\\site-packages (from requests<3.0.0,>=2.31.0->flwr) (3.3.2)\n",
      "Requirement already satisfied: idna<4,>=2.5 in c:\\users\\hp\\desktop\\new folder\\lib\\site-packages (from requests<3.0.0,>=2.31.0->flwr) (3.7)\n",
      "Requirement already satisfied: urllib3<3,>=1.21.1 in c:\\users\\hp\\desktop\\new folder\\lib\\site-packages (from requests<3.0.0,>=2.31.0->flwr) (2.2.3)\n",
      "Requirement already satisfied: certifi>=2017.4.17 in c:\\users\\hp\\desktop\\new folder\\lib\\site-packages (from requests<3.0.0,>=2.31.0->flwr) (2024.8.30)\n",
      "Requirement already satisfied: markdown-it-py>=2.2.0 in c:\\users\\hp\\desktop\\new folder\\lib\\site-packages (from rich<14.0.0,>=13.5.0->flwr) (2.2.0)\n",
      "Requirement already satisfied: pygments<3.0.0,>=2.13.0 in c:\\users\\hp\\desktop\\new folder\\lib\\site-packages (from rich<14.0.0,>=13.5.0->flwr) (2.15.1)\n",
      "Requirement already satisfied: mpmath<1.4,>=1.1.0 in c:\\users\\hp\\desktop\\new folder\\lib\\site-packages (from sympy>=1.13.3->torch) (1.3.0)\n",
      "Requirement already satisfied: click>=8.0.0 in c:\\users\\hp\\desktop\\new folder\\lib\\site-packages (from typer<0.13.0,>=0.12.5->flwr) (8.1.7)\n",
      "Collecting shellingham>=1.3.0 (from typer<0.13.0,>=0.12.5->flwr)\n",
      "  Downloading shellingham-1.5.4-py2.py3-none-any.whl.metadata (3.5 kB)\n",
      "Requirement already satisfied: MarkupSafe>=2.0 in c:\\users\\hp\\desktop\\new folder\\lib\\site-packages (from jinja2->torch) (2.1.3)\n",
      "Requirement already satisfied: colorama in c:\\users\\hp\\desktop\\new folder\\lib\\site-packages (from tqdm->kagglehub) (0.4.6)\n",
      "Requirement already satisfied: pycparser in c:\\users\\hp\\desktop\\new folder\\lib\\site-packages (from cffi>=1.12->cryptography<45.0.0,>=44.0.1->flwr) (2.21)\n",
      "Requirement already satisfied: mdurl~=0.1 in c:\\users\\hp\\desktop\\new folder\\lib\\site-packages (from markdown-it-py>=2.2.0->rich<14.0.0,>=13.5.0->flwr) (0.1.0)\n",
      "Downloading flwr-1.18.0-py3-none-any.whl (540 kB)\n",
      "   ---------------------------------------- 0.0/540.0 kB ? eta -:--:--\n",
      "   ---------------------------------------- 540.0/540.0 kB 8.7 MB/s eta 0:00:00\n",
      "Downloading torch-2.7.0-cp312-cp312-win_amd64.whl (212.5 MB)\n",
      "   ---------------------------------------- 0.0/212.5 MB ? eta -:--:--\n",
      "   - -------------------------------------- 7.3/212.5 MB 34.9 MB/s eta 0:00:06\n",
      "   -- ------------------------------------- 15.7/212.5 MB 38.1 MB/s eta 0:00:06\n",
      "   ---- ----------------------------------- 24.9/212.5 MB 39.4 MB/s eta 0:00:05\n",
      "   ------ --------------------------------- 35.1/212.5 MB 41.3 MB/s eta 0:00:05\n",
      "   -------- ------------------------------- 45.1/212.5 MB 42.2 MB/s eta 0:00:04\n",
      "   --------- ------------------------------ 51.9/212.5 MB 40.8 MB/s eta 0:00:04\n",
      "   ----------- ---------------------------- 59.2/212.5 MB 40.2 MB/s eta 0:00:04\n",
      "   ------------ --------------------------- 66.6/212.5 MB 39.3 MB/s eta 0:00:04\n",
      "   ------------- -------------------------- 73.7/212.5 MB 38.8 MB/s eta 0:00:04\n",
      "   --------------- ------------------------ 81.3/212.5 MB 38.7 MB/s eta 0:00:04\n",
      "   ---------------- ----------------------- 88.9/212.5 MB 38.6 MB/s eta 0:00:04\n",
      "   ----------------- ---------------------- 94.1/212.5 MB 37.5 MB/s eta 0:00:04\n",
      "   ------------------ --------------------- 99.6/212.5 MB 36.8 MB/s eta 0:00:04\n",
      "   ------------------- ------------------- 105.6/212.5 MB 36.1 MB/s eta 0:00:03\n",
      "   -------------------- ------------------ 111.4/212.5 MB 35.6 MB/s eta 0:00:03\n",
      "   --------------------- ----------------- 117.2/212.5 MB 35.0 MB/s eta 0:00:03\n",
      "   ---------------------- ---------------- 122.9/212.5 MB 34.7 MB/s eta 0:00:03\n",
      "   ----------------------- --------------- 129.5/212.5 MB 34.5 MB/s eta 0:00:03\n",
      "   ------------------------ -------------- 135.8/212.5 MB 34.1 MB/s eta 0:00:03\n",
      "   -------------------------- ------------ 142.1/212.5 MB 34.0 MB/s eta 0:00:03\n",
      "   --------------------------- ----------- 148.4/212.5 MB 33.7 MB/s eta 0:00:02\n",
      "   ---------------------------- ---------- 155.2/212.5 MB 33.7 MB/s eta 0:00:02\n",
      "   ----------------------------- --------- 162.0/212.5 MB 33.6 MB/s eta 0:00:02\n",
      "   ------------------------------ -------- 167.8/212.5 MB 33.3 MB/s eta 0:00:02\n",
      "   ------------------------------- ------- 172.8/212.5 MB 32.9 MB/s eta 0:00:02\n",
      "   -------------------------------- ------ 178.0/212.5 MB 32.5 MB/s eta 0:00:02\n",
      "   --------------------------------- ----- 183.2/212.5 MB 32.3 MB/s eta 0:00:01\n",
      "   ---------------------------------- ---- 188.7/212.5 MB 32.1 MB/s eta 0:00:01\n",
      "   ----------------------------------- --- 194.5/212.5 MB 31.8 MB/s eta 0:00:01\n",
      "   ------------------------------------ -- 200.0/212.5 MB 31.6 MB/s eta 0:00:01\n",
      "   ------------------------------------- - 205.5/212.5 MB 31.5 MB/s eta 0:00:01\n",
      "   --------------------------------------  211.6/212.5 MB 31.4 MB/s eta 0:00:01\n",
      "   --------------------------------------  212.3/212.5 MB 31.3 MB/s eta 0:00:01\n",
      "   --------------------------------------- 212.5/212.5 MB 29.8 MB/s eta 0:00:00\n",
      "Downloading torchvision-0.22.0-cp312-cp312-win_amd64.whl (1.7 MB)\n",
      "   ---------------------------------------- 0.0/1.7 MB ? eta -:--:--\n",
      "   ---------------------------------------- 1.7/1.7 MB 23.1 MB/s eta 0:00:00\n",
      "Downloading cryptography-44.0.3-cp39-abi3-win_amd64.whl (3.2 MB)\n",
      "   ---------------------------------------- 0.0/3.2 MB ? eta -:--:--\n",
      "   ---------------------------------------- 3.2/3.2 MB 27.0 MB/s eta 0:00:00\n",
      "Downloading grpcio-1.71.0-cp312-cp312-win_amd64.whl (4.3 MB)\n",
      "   ---------------------------------------- 0.0/4.3 MB ? eta -:--:--\n",
      "   ---------------------------------------- 4.3/4.3 MB 28.4 MB/s eta 0:00:00\n",
      "Downloading iterators-0.0.2-py3-none-any.whl (3.9 kB)\n",
      "Downloading pathspec-0.12.1-py3-none-any.whl (31 kB)\n",
      "Downloading pycryptodome-3.22.0-cp37-abi3-win_amd64.whl (1.8 MB)\n",
      "   ---------------------------------------- 0.0/1.8 MB ? eta -:--:--\n",
      "   ---------------------------------------- 1.8/1.8 MB 24.3 MB/s eta 0:00:00\n",
      "Downloading PyYAML-6.0.2-cp312-cp312-win_amd64.whl (156 kB)\n",
      "Downloading sympy-1.14.0-py3-none-any.whl (6.3 MB)\n",
      "   ---------------------------------------- 0.0/6.3 MB ? eta -:--:--\n",
      "   -------------------------------------- - 6.0/6.3 MB 28.4 MB/s eta 0:00:01\n",
      "   ---------------------------------------- 6.3/6.3 MB 27.6 MB/s eta 0:00:00\n",
      "Downloading tomli_w-1.2.0-py3-none-any.whl (6.7 kB)\n",
      "Downloading typer-0.12.5-py3-none-any.whl (47 kB)\n",
      "Downloading shellingham-1.5.4-py2.py3-none-any.whl (9.8 kB)\n",
      "Installing collected packages: tomli-w, sympy, shellingham, pyyaml, pycryptodome, pathspec, iterators, grpcio, torch, cryptography, typer, torchvision, flwr\n",
      "  Attempting uninstall: sympy\n",
      "    Found existing installation: sympy 1.13.2\n",
      "    Uninstalling sympy-1.13.2:\n",
      "      Successfully uninstalled sympy-1.13.2\n",
      "  Attempting uninstall: pyyaml\n",
      "    Found existing installation: PyYAML 6.0.1\n",
      "    Uninstalling PyYAML-6.0.1:\n",
      "      Successfully uninstalled PyYAML-6.0.1\n",
      "  Attempting uninstall: pathspec\n",
      "    Found existing installation: pathspec 0.10.3\n",
      "    Uninstalling pathspec-0.10.3:\n",
      "      Successfully uninstalled pathspec-0.10.3\n",
      "  Attempting uninstall: cryptography\n",
      "    Found existing installation: cryptography 43.0.0\n",
      "    Uninstalling cryptography-43.0.0:\n",
      "      Successfully uninstalled cryptography-43.0.0\n",
      "Successfully installed cryptography-44.0.3 flwr-1.18.0 grpcio-1.71.0 iterators-0.0.2 pathspec-0.12.1 pycryptodome-3.22.0 pyyaml-6.0.2 shellingham-1.5.4 sympy-1.14.0 tomli-w-1.2.0 torch-2.7.0 torchvision-0.22.0 typer-0.12.5\n",
      "Note: you may need to restart the kernel to use updated packages.\n"
     ]
    },
    {
     "name": "stderr",
     "output_type": "stream",
     "text": [
      "  WARNING: Failed to remove contents in a temporary directory 'C:\\Users\\hp\\Desktop\\New folder\\Lib\\site-packages\\~aml'.\n",
      "  You can safely remove it manually.\n",
      "  WARNING: Failed to remove contents in a temporary directory 'C:\\Users\\hp\\Desktop\\New folder\\Lib\\site-packages\\~ryptography'.\n",
      "  You can safely remove it manually.\n",
      "ERROR: pip's dependency resolver does not currently take into account all the packages that are installed. This behaviour is the source of the following dependency conflicts.\n",
      "pyopenssl 24.2.1 requires cryptography<44,>=41.0.5, but you have cryptography 44.0.3 which is incompatible.\n"
     ]
    }
   ],
   "source": [
    "pip install flwr torch torchvision kagglehub\n"
   ]
  },
  {
   "cell_type": "code",
   "execution_count": 15,
   "id": "58f0dda3-2e8e-4f3e-8cc7-6b9d82f11c1b",
   "metadata": {},
   "outputs": [
    {
     "name": "stdout",
     "output_type": "stream",
     "text": [
      "Requirement already satisfied: flwr in c:\\users\\hp\\desktop\\new folder\\lib\\site-packages (1.18.0)\n",
      "Requirement already satisfied: torch in c:\\users\\hp\\desktop\\new folder\\lib\\site-packages (2.7.0)\n",
      "Requirement already satisfied: torchvision in c:\\users\\hp\\desktop\\new folder\\lib\\site-packages (0.22.0)\n",
      "Requirement already satisfied: kagglehub in c:\\users\\hp\\desktop\\new folder\\lib\\site-packages (0.3.12)\n",
      "Requirement already satisfied: cryptography<45.0.0,>=44.0.1 in c:\\users\\hp\\desktop\\new folder\\lib\\site-packages (from flwr) (44.0.3)\n",
      "Requirement already satisfied: grpcio!=1.65.0,<2.0.0,>=1.62.3 in c:\\users\\hp\\desktop\\new folder\\lib\\site-packages (from flwr) (1.71.0)\n",
      "Requirement already satisfied: iterators<0.0.3,>=0.0.2 in c:\\users\\hp\\desktop\\new folder\\lib\\site-packages (from flwr) (0.0.2)\n",
      "Requirement already satisfied: numpy<3.0.0,>=1.26.0 in c:\\users\\hp\\desktop\\new folder\\lib\\site-packages (from flwr) (1.26.4)\n",
      "Requirement already satisfied: pathspec<0.13.0,>=0.12.1 in c:\\users\\hp\\desktop\\new folder\\lib\\site-packages (from flwr) (0.12.1)\n",
      "Requirement already satisfied: protobuf<5.0.0,>=4.21.6 in c:\\users\\hp\\desktop\\new folder\\lib\\site-packages (from flwr) (4.25.3)\n",
      "Requirement already satisfied: pycryptodome<4.0.0,>=3.18.0 in c:\\users\\hp\\desktop\\new folder\\lib\\site-packages (from flwr) (3.22.0)\n",
      "Requirement already satisfied: pyyaml<7.0.0,>=6.0.2 in c:\\users\\hp\\desktop\\new folder\\lib\\site-packages (from flwr) (6.0.2)\n",
      "Requirement already satisfied: requests<3.0.0,>=2.31.0 in c:\\users\\hp\\desktop\\new folder\\lib\\site-packages (from flwr) (2.32.3)\n",
      "Requirement already satisfied: rich<14.0.0,>=13.5.0 in c:\\users\\hp\\desktop\\new folder\\lib\\site-packages (from flwr) (13.7.1)\n",
      "Requirement already satisfied: tomli<3.0.0,>=2.0.1 in c:\\users\\hp\\desktop\\new folder\\lib\\site-packages (from flwr) (2.0.1)\n",
      "Requirement already satisfied: tomli-w<2.0.0,>=1.0.0 in c:\\users\\hp\\desktop\\new folder\\lib\\site-packages (from flwr) (1.2.0)\n",
      "Requirement already satisfied: typer<0.13.0,>=0.12.5 in c:\\users\\hp\\desktop\\new folder\\lib\\site-packages (from flwr) (0.12.5)\n",
      "Requirement already satisfied: filelock in c:\\users\\hp\\desktop\\new folder\\lib\\site-packages (from torch) (3.13.1)\n",
      "Requirement already satisfied: typing-extensions>=4.10.0 in c:\\users\\hp\\desktop\\new folder\\lib\\site-packages (from torch) (4.11.0)\n",
      "Requirement already satisfied: sympy>=1.13.3 in c:\\users\\hp\\desktop\\new folder\\lib\\site-packages (from torch) (1.14.0)\n",
      "Requirement already satisfied: networkx in c:\\users\\hp\\desktop\\new folder\\lib\\site-packages (from torch) (3.3)\n",
      "Requirement already satisfied: jinja2 in c:\\users\\hp\\desktop\\new folder\\lib\\site-packages (from torch) (3.1.4)\n",
      "Requirement already satisfied: fsspec in c:\\users\\hp\\desktop\\new folder\\lib\\site-packages (from torch) (2024.6.1)\n",
      "Requirement already satisfied: setuptools in c:\\users\\hp\\desktop\\new folder\\lib\\site-packages (from torch) (75.1.0)\n",
      "Requirement already satisfied: pillow!=8.3.*,>=5.3.0 in c:\\users\\hp\\desktop\\new folder\\lib\\site-packages (from torchvision) (10.4.0)\n",
      "Requirement already satisfied: packaging in c:\\users\\hp\\desktop\\new folder\\lib\\site-packages (from kagglehub) (24.1)\n",
      "Requirement already satisfied: tqdm in c:\\users\\hp\\desktop\\new folder\\lib\\site-packages (from kagglehub) (4.66.5)\n",
      "Requirement already satisfied: cffi>=1.12 in c:\\users\\hp\\desktop\\new folder\\lib\\site-packages (from cryptography<45.0.0,>=44.0.1->flwr) (1.17.1)\n",
      "Requirement already satisfied: charset-normalizer<4,>=2 in c:\\users\\hp\\desktop\\new folder\\lib\\site-packages (from requests<3.0.0,>=2.31.0->flwr) (3.3.2)\n",
      "Requirement already satisfied: idna<4,>=2.5 in c:\\users\\hp\\desktop\\new folder\\lib\\site-packages (from requests<3.0.0,>=2.31.0->flwr) (3.7)\n",
      "Requirement already satisfied: urllib3<3,>=1.21.1 in c:\\users\\hp\\desktop\\new folder\\lib\\site-packages (from requests<3.0.0,>=2.31.0->flwr) (2.2.3)\n",
      "Requirement already satisfied: certifi>=2017.4.17 in c:\\users\\hp\\desktop\\new folder\\lib\\site-packages (from requests<3.0.0,>=2.31.0->flwr) (2024.8.30)\n",
      "Requirement already satisfied: markdown-it-py>=2.2.0 in c:\\users\\hp\\desktop\\new folder\\lib\\site-packages (from rich<14.0.0,>=13.5.0->flwr) (2.2.0)\n",
      "Requirement already satisfied: pygments<3.0.0,>=2.13.0 in c:\\users\\hp\\desktop\\new folder\\lib\\site-packages (from rich<14.0.0,>=13.5.0->flwr) (2.15.1)\n",
      "Requirement already satisfied: mpmath<1.4,>=1.1.0 in c:\\users\\hp\\desktop\\new folder\\lib\\site-packages (from sympy>=1.13.3->torch) (1.3.0)\n",
      "Requirement already satisfied: click>=8.0.0 in c:\\users\\hp\\desktop\\new folder\\lib\\site-packages (from typer<0.13.0,>=0.12.5->flwr) (8.1.7)\n",
      "Requirement already satisfied: shellingham>=1.3.0 in c:\\users\\hp\\desktop\\new folder\\lib\\site-packages (from typer<0.13.0,>=0.12.5->flwr) (1.5.4)\n",
      "Requirement already satisfied: MarkupSafe>=2.0 in c:\\users\\hp\\desktop\\new folder\\lib\\site-packages (from jinja2->torch) (2.1.3)\n",
      "Requirement already satisfied: colorama in c:\\users\\hp\\desktop\\new folder\\lib\\site-packages (from tqdm->kagglehub) (0.4.6)\n",
      "Requirement already satisfied: pycparser in c:\\users\\hp\\desktop\\new folder\\lib\\site-packages (from cffi>=1.12->cryptography<45.0.0,>=44.0.1->flwr) (2.21)\n",
      "Requirement already satisfied: mdurl~=0.1 in c:\\users\\hp\\desktop\\new folder\\lib\\site-packages (from markdown-it-py>=2.2.0->rich<14.0.0,>=13.5.0->flwr) (0.1.0)\n"
     ]
    }
   ],
   "source": [
    "\n",
    "!pip install flwr torch torchvision kagglehub\n"
   ]
  },
  {
   "cell_type": "code",
   "execution_count": 16,
   "id": "dd28bcd1-3cbc-466d-b4a5-758d2eb5266a",
   "metadata": {},
   "outputs": [],
   "source": [
    "\n",
    "import flwr as fl\n",
    "import torch\n",
    "import torchvision.transforms as transforms\n",
    "from torchvision.datasets import ImageFolder\n",
    "from torch.utils.data import DataLoader, random_split\n",
    "import torch.nn as nn\n",
    "import torch.nn.functional as F\n",
    "import torch.optim as optim\n",
    "import kagglehub\n",
    "import os\n"
   ]
  },
  {
   "cell_type": "code",
   "execution_count": 17,
   "id": "7b54bd95-5ad3-4305-81f7-ec11f13bf9f4",
   "metadata": {},
   "outputs": [
    {
     "name": "stdout",
     "output_type": "stream",
     "text": [
      "Path: C:\\Users\\hp\\.cache\\kagglehub\\datasets\\sujaykapadnis\\vehicle-type-image-dataset\\versions\\1\n"
     ]
    }
   ],
   "source": [
    "\n",
    "# Download the dataset\n",
    "path = kagglehub.dataset_download(\"sujaykapadnis/vehicle-type-image-dataset\")\n",
    "print(\"Path:\", path)\n"
   ]
  },
  {
   "cell_type": "code",
   "execution_count": 18,
   "id": "845192e6-aed5-4a91-bf07-4c4136471624",
   "metadata": {},
   "outputs": [],
   "source": [
    "transform = transforms.Compose([\n",
    "    transforms.Resize((128, 128)),\n",
    "    transforms.ToTensor()\n",
    "])\n",
    "\n",
    "dataset = ImageFolder(root=path, transform=transform)\n",
    "num_clients = 5\n",
    "split_len = len(dataset) // num_clients\n",
    "# Calculate the remainder to adjust the split lengths\n",
    "remainder = len(dataset) % num_clients\n",
    "# Distribute the remainder among the first few splits\n",
    "split_lengths = [split_len + 1 if i < remainder else split_len for i in range(num_clients)]\n",
    "\n",
    "client_datasets = random_split(dataset, split_lengths) # Pass the adjusted lengths"
   ]
  },
  {
   "cell_type": "code",
   "execution_count": 19,
   "id": "f03d0d36-fb7f-41e1-b07e-ede584d65016",
   "metadata": {},
   "outputs": [
    {
     "name": "stdout",
     "output_type": "stream",
     "text": [
      "Requirement already satisfied: flwr[simulation] in c:\\users\\hp\\desktop\\new folder\\lib\\site-packages (1.18.0)\n",
      "Requirement already satisfied: cryptography<45.0.0,>=44.0.1 in c:\\users\\hp\\desktop\\new folder\\lib\\site-packages (from flwr[simulation]) (44.0.3)\n",
      "Requirement already satisfied: grpcio!=1.65.0,<2.0.0,>=1.62.3 in c:\\users\\hp\\desktop\\new folder\\lib\\site-packages (from flwr[simulation]) (1.71.0)\n",
      "Requirement already satisfied: iterators<0.0.3,>=0.0.2 in c:\\users\\hp\\desktop\\new folder\\lib\\site-packages (from flwr[simulation]) (0.0.2)\n",
      "Requirement already satisfied: numpy<3.0.0,>=1.26.0 in c:\\users\\hp\\desktop\\new folder\\lib\\site-packages (from flwr[simulation]) (1.26.4)\n",
      "Requirement already satisfied: pathspec<0.13.0,>=0.12.1 in c:\\users\\hp\\desktop\\new folder\\lib\\site-packages (from flwr[simulation]) (0.12.1)\n",
      "Requirement already satisfied: protobuf<5.0.0,>=4.21.6 in c:\\users\\hp\\desktop\\new folder\\lib\\site-packages (from flwr[simulation]) (4.25.3)\n",
      "Requirement already satisfied: pycryptodome<4.0.0,>=3.18.0 in c:\\users\\hp\\desktop\\new folder\\lib\\site-packages (from flwr[simulation]) (3.22.0)\n",
      "Requirement already satisfied: pyyaml<7.0.0,>=6.0.2 in c:\\users\\hp\\desktop\\new folder\\lib\\site-packages (from flwr[simulation]) (6.0.2)\n",
      "Collecting ray==2.31.0 (from flwr[simulation])\n",
      "  Downloading ray-2.31.0-cp312-cp312-win_amd64.whl.metadata (13 kB)\n",
      "Requirement already satisfied: requests<3.0.0,>=2.31.0 in c:\\users\\hp\\desktop\\new folder\\lib\\site-packages (from flwr[simulation]) (2.32.3)\n",
      "Requirement already satisfied: rich<14.0.0,>=13.5.0 in c:\\users\\hp\\desktop\\new folder\\lib\\site-packages (from flwr[simulation]) (13.7.1)\n",
      "Requirement already satisfied: tomli<3.0.0,>=2.0.1 in c:\\users\\hp\\desktop\\new folder\\lib\\site-packages (from flwr[simulation]) (2.0.1)\n",
      "Requirement already satisfied: tomli-w<2.0.0,>=1.0.0 in c:\\users\\hp\\desktop\\new folder\\lib\\site-packages (from flwr[simulation]) (1.2.0)\n",
      "Requirement already satisfied: typer<0.13.0,>=0.12.5 in c:\\users\\hp\\desktop\\new folder\\lib\\site-packages (from flwr[simulation]) (0.12.5)\n",
      "Requirement already satisfied: click>=7.0 in c:\\users\\hp\\desktop\\new folder\\lib\\site-packages (from ray==2.31.0->flwr[simulation]) (8.1.7)\n",
      "Requirement already satisfied: filelock in c:\\users\\hp\\desktop\\new folder\\lib\\site-packages (from ray==2.31.0->flwr[simulation]) (3.13.1)\n",
      "Requirement already satisfied: jsonschema in c:\\users\\hp\\desktop\\new folder\\lib\\site-packages (from ray==2.31.0->flwr[simulation]) (4.23.0)\n",
      "Requirement already satisfied: msgpack<2.0.0,>=1.0.0 in c:\\users\\hp\\desktop\\new folder\\lib\\site-packages (from ray==2.31.0->flwr[simulation]) (1.0.3)\n",
      "Requirement already satisfied: packaging in c:\\users\\hp\\desktop\\new folder\\lib\\site-packages (from ray==2.31.0->flwr[simulation]) (24.1)\n",
      "Requirement already satisfied: aiosignal in c:\\users\\hp\\desktop\\new folder\\lib\\site-packages (from ray==2.31.0->flwr[simulation]) (1.2.0)\n",
      "Requirement already satisfied: frozenlist in c:\\users\\hp\\desktop\\new folder\\lib\\site-packages (from ray==2.31.0->flwr[simulation]) (1.4.0)\n",
      "Requirement already satisfied: cffi>=1.12 in c:\\users\\hp\\desktop\\new folder\\lib\\site-packages (from cryptography<45.0.0,>=44.0.1->flwr[simulation]) (1.17.1)\n",
      "Requirement already satisfied: charset-normalizer<4,>=2 in c:\\users\\hp\\desktop\\new folder\\lib\\site-packages (from requests<3.0.0,>=2.31.0->flwr[simulation]) (3.3.2)\n",
      "Requirement already satisfied: idna<4,>=2.5 in c:\\users\\hp\\desktop\\new folder\\lib\\site-packages (from requests<3.0.0,>=2.31.0->flwr[simulation]) (3.7)\n",
      "Requirement already satisfied: urllib3<3,>=1.21.1 in c:\\users\\hp\\desktop\\new folder\\lib\\site-packages (from requests<3.0.0,>=2.31.0->flwr[simulation]) (2.2.3)\n",
      "Requirement already satisfied: certifi>=2017.4.17 in c:\\users\\hp\\desktop\\new folder\\lib\\site-packages (from requests<3.0.0,>=2.31.0->flwr[simulation]) (2024.8.30)\n",
      "Requirement already satisfied: markdown-it-py>=2.2.0 in c:\\users\\hp\\desktop\\new folder\\lib\\site-packages (from rich<14.0.0,>=13.5.0->flwr[simulation]) (2.2.0)\n",
      "Requirement already satisfied: pygments<3.0.0,>=2.13.0 in c:\\users\\hp\\desktop\\new folder\\lib\\site-packages (from rich<14.0.0,>=13.5.0->flwr[simulation]) (2.15.1)\n",
      "Requirement already satisfied: typing-extensions>=3.7.4.3 in c:\\users\\hp\\desktop\\new folder\\lib\\site-packages (from typer<0.13.0,>=0.12.5->flwr[simulation]) (4.11.0)\n",
      "Requirement already satisfied: shellingham>=1.3.0 in c:\\users\\hp\\desktop\\new folder\\lib\\site-packages (from typer<0.13.0,>=0.12.5->flwr[simulation]) (1.5.4)\n",
      "Requirement already satisfied: pycparser in c:\\users\\hp\\desktop\\new folder\\lib\\site-packages (from cffi>=1.12->cryptography<45.0.0,>=44.0.1->flwr[simulation]) (2.21)\n",
      "Requirement already satisfied: colorama in c:\\users\\hp\\desktop\\new folder\\lib\\site-packages (from click>=7.0->ray==2.31.0->flwr[simulation]) (0.4.6)\n",
      "Requirement already satisfied: mdurl~=0.1 in c:\\users\\hp\\desktop\\new folder\\lib\\site-packages (from markdown-it-py>=2.2.0->rich<14.0.0,>=13.5.0->flwr[simulation]) (0.1.0)\n",
      "Requirement already satisfied: attrs>=22.2.0 in c:\\users\\hp\\desktop\\new folder\\lib\\site-packages (from jsonschema->ray==2.31.0->flwr[simulation]) (23.1.0)\n",
      "Requirement already satisfied: jsonschema-specifications>=2023.03.6 in c:\\users\\hp\\desktop\\new folder\\lib\\site-packages (from jsonschema->ray==2.31.0->flwr[simulation]) (2023.7.1)\n",
      "Requirement already satisfied: referencing>=0.28.4 in c:\\users\\hp\\desktop\\new folder\\lib\\site-packages (from jsonschema->ray==2.31.0->flwr[simulation]) (0.30.2)\n",
      "Requirement already satisfied: rpds-py>=0.7.1 in c:\\users\\hp\\desktop\\new folder\\lib\\site-packages (from jsonschema->ray==2.31.0->flwr[simulation]) (0.10.6)\n",
      "Downloading ray-2.31.0-cp312-cp312-win_amd64.whl (26.4 MB)\n",
      "   ---------------------------------------- 0.0/26.4 MB ? eta -:--:--\n",
      "   - -------------------------------------- 1.0/26.4 MB 24.6 MB/s eta 0:00:02\n",
      "   --- ------------------------------------ 2.1/26.4 MB 6.5 MB/s eta 0:00:04\n",
      "   ---- ----------------------------------- 3.1/26.4 MB 5.1 MB/s eta 0:00:05\n",
      "   ---- ----------------------------------- 3.1/26.4 MB 5.1 MB/s eta 0:00:05\n",
      "   ------ --------------------------------- 4.2/26.4 MB 4.7 MB/s eta 0:00:05\n",
      "   ------- -------------------------------- 5.2/26.4 MB 4.1 MB/s eta 0:00:06\n",
      "   ------- -------------------------------- 5.2/26.4 MB 4.1 MB/s eta 0:00:06\n",
      "   --------- ------------------------------ 6.3/26.4 MB 3.9 MB/s eta 0:00:06\n",
      "   --------- ------------------------------ 6.3/26.4 MB 3.9 MB/s eta 0:00:06\n",
      "   ----------- ---------------------------- 7.3/26.4 MB 3.5 MB/s eta 0:00:06\n",
      "   ------------ --------------------------- 8.1/26.4 MB 3.4 MB/s eta 0:00:06\n",
      "   ------------ --------------------------- 8.4/26.4 MB 3.6 MB/s eta 0:00:06\n",
      "   -------------- ------------------------- 9.4/26.4 MB 3.6 MB/s eta 0:00:05\n",
      "   -------------- ------------------------- 9.4/26.4 MB 3.6 MB/s eta 0:00:05\n",
      "   --------------- ------------------------ 10.5/26.4 MB 3.4 MB/s eta 0:00:05\n",
      "   ----------------- ---------------------- 11.5/26.4 MB 3.4 MB/s eta 0:00:05\n",
      "   ----------------- ---------------------- 11.5/26.4 MB 3.4 MB/s eta 0:00:05\n",
      "   ----------------- ---------------------- 11.5/26.4 MB 3.4 MB/s eta 0:00:05\n",
      "   ----------------- ---------------------- 11.5/26.4 MB 3.4 MB/s eta 0:00:05\n",
      "   ----------------- ---------------------- 11.5/26.4 MB 3.4 MB/s eta 0:00:05\n",
      "   ------------------- -------------------- 12.6/26.4 MB 2.9 MB/s eta 0:00:05\n",
      "   -------------------- ------------------- 13.6/26.4 MB 3.0 MB/s eta 0:00:05\n",
      "   -------------------- ------------------- 13.6/26.4 MB 3.0 MB/s eta 0:00:05\n",
      "   -------------------- ------------------- 13.6/26.4 MB 3.0 MB/s eta 0:00:05\n",
      "   -------------------- ------------------- 13.6/26.4 MB 3.0 MB/s eta 0:00:05\n",
      "   ---------------------- ----------------- 14.7/26.4 MB 2.7 MB/s eta 0:00:05\n",
      "   ----------------------- ---------------- 15.7/26.4 MB 2.8 MB/s eta 0:00:04\n",
      "   ------------------------- -------------- 16.8/26.4 MB 2.8 MB/s eta 0:00:04\n",
      "   ------------------------- -------------- 16.8/26.4 MB 2.8 MB/s eta 0:00:04\n",
      "   -------------------------- ------------- 17.8/26.4 MB 2.9 MB/s eta 0:00:04\n",
      "   ---------------------------- ----------- 18.9/26.4 MB 2.9 MB/s eta 0:00:03\n",
      "   ----------------------------- ---------- 19.7/26.4 MB 2.9 MB/s eta 0:00:03\n",
      "   ------------------------------ --------- 19.9/26.4 MB 2.9 MB/s eta 0:00:03\n",
      "   ------------------------------- -------- 21.0/26.4 MB 3.0 MB/s eta 0:00:02\n",
      "   ------------------------------- -------- 21.0/26.4 MB 3.0 MB/s eta 0:00:02\n",
      "   ------------------------------- -------- 21.0/26.4 MB 3.0 MB/s eta 0:00:02\n",
      "   ------------------------------- -------- 21.0/26.4 MB 3.0 MB/s eta 0:00:02\n",
      "   ------------------------------- -------- 21.0/26.4 MB 3.0 MB/s eta 0:00:02\n",
      "   ------------------------------- -------- 21.0/26.4 MB 3.0 MB/s eta 0:00:02\n",
      "   ------------------------------- -------- 21.0/26.4 MB 3.0 MB/s eta 0:00:02\n",
      "   ------------------------------- -------- 21.0/26.4 MB 3.0 MB/s eta 0:00:02\n",
      "   --------------------------------- ------ 22.0/26.4 MB 2.5 MB/s eta 0:00:02\n",
      "   --------------------------------- ------ 22.0/26.4 MB 2.5 MB/s eta 0:00:02\n",
      "   --------------------------------- ------ 22.0/26.4 MB 2.5 MB/s eta 0:00:02\n",
      "   --------------------------------- ------ 22.0/26.4 MB 2.5 MB/s eta 0:00:02\n",
      "   ---------------------------------- ----- 22.5/26.4 MB 2.3 MB/s eta 0:00:02\n",
      "   ---------------------------------- ----- 23.1/26.4 MB 2.4 MB/s eta 0:00:02\n",
      "   ------------------------------------ --- 24.1/26.4 MB 2.4 MB/s eta 0:00:01\n",
      "   -------------------------------------- - 25.2/26.4 MB 2.4 MB/s eta 0:00:01\n",
      "   -------------------------------------- - 25.2/26.4 MB 2.4 MB/s eta 0:00:01\n",
      "   ---------------------------------------  26.2/26.4 MB 2.5 MB/s eta 0:00:01\n",
      "   ---------------------------------------- 26.4/26.4 MB 2.4 MB/s eta 0:00:00\n",
      "Installing collected packages: ray\n",
      "Successfully installed ray-2.31.0\n"
     ]
    }
   ],
   "source": [
    "!pip install -U \"flwr[simulation]\"\n",
    "class CNN(nn.Module):\n",
    "    def __init__(self):\n",
    "        super(CNN, self).__init__()\n",
    "        self.conv1 = nn.Conv2d(3, 32, 3, padding=1)\n",
    "        self.pool = nn.MaxPool2d(2, 2)\n",
    "        self.conv2 = nn.Conv2d(32, 64, 3, padding=1)\n",
    "        self.fc1 = nn.Linear(64 * 32 * 32, 128)\n",
    "        self.fc2 = nn.Linear(128, 5)\n",
    "        self.dropout = nn.Dropout(0.25)\n",
    "\n",
    "    def forward(self, x):\n",
    "        x = self.pool(F.relu(self.conv1(x)))\n",
    "        x = self.pool(F.relu(self.conv2(x)))\n",
    "        x = x.view(-1, 64 * 32 * 32)\n",
    "        x = F.relu(self.fc1(x))\n",
    "        x = self.dropout(x)\n",
    "        x = self.fc2(x)\n",
    "        return x\n"
   ]
  },
  {
   "cell_type": "code",
   "execution_count": 20,
   "id": "e90dff43-a0d0-4acc-9555-06e7615c18be",
   "metadata": {},
   "outputs": [],
   "source": [
    "\n",
    "class VehicleClient(fl.client.NumPyClient):\n",
    "    def __init__(self, model, train_loader, test_loader):\n",
    "        self.model = model\n",
    "        self.train_loader = train_loader\n",
    "        self.test_loader = test_loader\n",
    "\n",
    "    def get_parameters(self, config=True):\n",
    "        return [val.cpu().numpy() for val in self.model.state_dict().values()]\n",
    "\n",
    "    def set_parameters(self, parameters):\n",
    "        state_dict = self.model.state_dict()\n",
    "        for k, v in zip(state_dict.keys(), parameters):\n",
    "            state_dict[k] = torch.tensor(v)\n",
    "        self.model.load_state_dict(state_dict)\n",
    "\n",
    "    def fit(self, parameters, config):\n",
    "        self.set_parameters(parameters)\n",
    "        self.model.train()\n",
    "        optimizer = optim.SGD(self.model.parameters(), lr=0.01)\n",
    "        for epoch in range(1):\n",
    "            for data, target in self.train_loader:\n",
    "                optimizer.zero_grad()\n",
    "                output = self.model(data)\n",
    "                loss = F.cross_entropy(output, target)\n",
    "                loss.backward()\n",
    "                optimizer.step()\n",
    "        return self.get_parameters(), len(self.train_loader.dataset), {}\n",
    "\n",
    "    def evaluate(self, parameters, config):\n",
    "        self.set_parameters(parameters)\n",
    "        self.model.eval()\n",
    "        loss, correct = 0, 0\n",
    "        with torch.no_grad():\n",
    "            for data, target in self.test_loader:\n",
    "                output = self.model(data)\n",
    "                loss += F.cross_entropy(output, target, reduction='sum').item()\n",
    "                pred = output.argmax(dim=1)\n",
    "                correct += pred.eq(target).sum().item()\n",
    "        accuracy = correct / len(self.test_loader.dataset)\n",
    "        return loss, len(self.test_loader.dataset), {\"accuracy\": accuracy}\n"
   ]
  },
  {
   "cell_type": "code",
   "execution_count": 25,
   "id": "1646310d-b006-4591-bce3-c0da12b2227e",
   "metadata": {},
   "outputs": [
    {
     "name": "stdout",
     "output_type": "stream",
     "text": [
      "Requirement already satisfied: flwr[simulation] in c:\\users\\hp\\desktop\\new folder\\lib\\site-packages (1.18.0)\n",
      "Requirement already satisfied: cryptography<45.0.0,>=44.0.1 in c:\\users\\hp\\desktop\\new folder\\lib\\site-packages (from flwr[simulation]) (44.0.3)\n",
      "Requirement already satisfied: grpcio!=1.65.0,<2.0.0,>=1.62.3 in c:\\users\\hp\\desktop\\new folder\\lib\\site-packages (from flwr[simulation]) (1.71.0)\n",
      "Requirement already satisfied: iterators<0.0.3,>=0.0.2 in c:\\users\\hp\\desktop\\new folder\\lib\\site-packages (from flwr[simulation]) (0.0.2)\n",
      "Requirement already satisfied: numpy<3.0.0,>=1.26.0 in c:\\users\\hp\\desktop\\new folder\\lib\\site-packages (from flwr[simulation]) (1.26.4)\n",
      "Requirement already satisfied: pathspec<0.13.0,>=0.12.1 in c:\\users\\hp\\desktop\\new folder\\lib\\site-packages (from flwr[simulation]) (0.12.1)\n",
      "Requirement already satisfied: protobuf<5.0.0,>=4.21.6 in c:\\users\\hp\\desktop\\new folder\\lib\\site-packages (from flwr[simulation]) (4.25.3)\n",
      "Requirement already satisfied: pycryptodome<4.0.0,>=3.18.0 in c:\\users\\hp\\desktop\\new folder\\lib\\site-packages (from flwr[simulation]) (3.22.0)\n",
      "Requirement already satisfied: pyyaml<7.0.0,>=6.0.2 in c:\\users\\hp\\desktop\\new folder\\lib\\site-packages (from flwr[simulation]) (6.0.2)\n",
      "Requirement already satisfied: ray==2.31.0 in c:\\users\\hp\\desktop\\new folder\\lib\\site-packages (from flwr[simulation]) (2.31.0)\n",
      "Requirement already satisfied: requests<3.0.0,>=2.31.0 in c:\\users\\hp\\desktop\\new folder\\lib\\site-packages (from flwr[simulation]) (2.32.3)\n",
      "Requirement already satisfied: rich<14.0.0,>=13.5.0 in c:\\users\\hp\\desktop\\new folder\\lib\\site-packages (from flwr[simulation]) (13.7.1)\n",
      "Requirement already satisfied: tomli<3.0.0,>=2.0.1 in c:\\users\\hp\\desktop\\new folder\\lib\\site-packages (from flwr[simulation]) (2.0.1)\n",
      "Requirement already satisfied: tomli-w<2.0.0,>=1.0.0 in c:\\users\\hp\\desktop\\new folder\\lib\\site-packages (from flwr[simulation]) (1.2.0)\n",
      "Requirement already satisfied: typer<0.13.0,>=0.12.5 in c:\\users\\hp\\desktop\\new folder\\lib\\site-packages (from flwr[simulation]) (0.12.5)\n",
      "Requirement already satisfied: click>=7.0 in c:\\users\\hp\\desktop\\new folder\\lib\\site-packages (from ray==2.31.0->flwr[simulation]) (8.1.7)\n",
      "Requirement already satisfied: filelock in c:\\users\\hp\\desktop\\new folder\\lib\\site-packages (from ray==2.31.0->flwr[simulation]) (3.13.1)\n",
      "Requirement already satisfied: jsonschema in c:\\users\\hp\\desktop\\new folder\\lib\\site-packages (from ray==2.31.0->flwr[simulation]) (4.23.0)\n",
      "Requirement already satisfied: msgpack<2.0.0,>=1.0.0 in c:\\users\\hp\\desktop\\new folder\\lib\\site-packages (from ray==2.31.0->flwr[simulation]) (1.0.3)\n",
      "Requirement already satisfied: packaging in c:\\users\\hp\\desktop\\new folder\\lib\\site-packages (from ray==2.31.0->flwr[simulation]) (24.1)\n",
      "Requirement already satisfied: aiosignal in c:\\users\\hp\\desktop\\new folder\\lib\\site-packages (from ray==2.31.0->flwr[simulation]) (1.2.0)\n",
      "Requirement already satisfied: frozenlist in c:\\users\\hp\\desktop\\new folder\\lib\\site-packages (from ray==2.31.0->flwr[simulation]) (1.4.0)\n",
      "Requirement already satisfied: cffi>=1.12 in c:\\users\\hp\\desktop\\new folder\\lib\\site-packages (from cryptography<45.0.0,>=44.0.1->flwr[simulation]) (1.17.1)\n",
      "Requirement already satisfied: charset-normalizer<4,>=2 in c:\\users\\hp\\desktop\\new folder\\lib\\site-packages (from requests<3.0.0,>=2.31.0->flwr[simulation]) (3.3.2)\n",
      "Requirement already satisfied: idna<4,>=2.5 in c:\\users\\hp\\desktop\\new folder\\lib\\site-packages (from requests<3.0.0,>=2.31.0->flwr[simulation]) (3.7)\n",
      "Requirement already satisfied: urllib3<3,>=1.21.1 in c:\\users\\hp\\desktop\\new folder\\lib\\site-packages (from requests<3.0.0,>=2.31.0->flwr[simulation]) (2.2.3)\n",
      "Requirement already satisfied: certifi>=2017.4.17 in c:\\users\\hp\\desktop\\new folder\\lib\\site-packages (from requests<3.0.0,>=2.31.0->flwr[simulation]) (2024.8.30)\n",
      "Requirement already satisfied: markdown-it-py>=2.2.0 in c:\\users\\hp\\desktop\\new folder\\lib\\site-packages (from rich<14.0.0,>=13.5.0->flwr[simulation]) (2.2.0)\n",
      "Requirement already satisfied: pygments<3.0.0,>=2.13.0 in c:\\users\\hp\\desktop\\new folder\\lib\\site-packages (from rich<14.0.0,>=13.5.0->flwr[simulation]) (2.15.1)\n",
      "Requirement already satisfied: typing-extensions>=3.7.4.3 in c:\\users\\hp\\desktop\\new folder\\lib\\site-packages (from typer<0.13.0,>=0.12.5->flwr[simulation]) (4.11.0)\n",
      "Requirement already satisfied: shellingham>=1.3.0 in c:\\users\\hp\\desktop\\new folder\\lib\\site-packages (from typer<0.13.0,>=0.12.5->flwr[simulation]) (1.5.4)\n",
      "Requirement already satisfied: pycparser in c:\\users\\hp\\desktop\\new folder\\lib\\site-packages (from cffi>=1.12->cryptography<45.0.0,>=44.0.1->flwr[simulation]) (2.21)\n",
      "Requirement already satisfied: colorama in c:\\users\\hp\\desktop\\new folder\\lib\\site-packages (from click>=7.0->ray==2.31.0->flwr[simulation]) (0.4.6)\n",
      "Requirement already satisfied: mdurl~=0.1 in c:\\users\\hp\\desktop\\new folder\\lib\\site-packages (from markdown-it-py>=2.2.0->rich<14.0.0,>=13.5.0->flwr[simulation]) (0.1.0)\n",
      "Requirement already satisfied: attrs>=22.2.0 in c:\\users\\hp\\desktop\\new folder\\lib\\site-packages (from jsonschema->ray==2.31.0->flwr[simulation]) (23.1.0)\n",
      "Requirement already satisfied: jsonschema-specifications>=2023.03.6 in c:\\users\\hp\\desktop\\new folder\\lib\\site-packages (from jsonschema->ray==2.31.0->flwr[simulation]) (2023.7.1)\n",
      "Requirement already satisfied: referencing>=0.28.4 in c:\\users\\hp\\desktop\\new folder\\lib\\site-packages (from jsonschema->ray==2.31.0->flwr[simulation]) (0.30.2)\n",
      "Requirement already satisfied: rpds-py>=0.7.1 in c:\\users\\hp\\desktop\\new folder\\lib\\site-packages (from jsonschema->ray==2.31.0->flwr[simulation]) (0.10.6)\n"
     ]
    }
   ],
   "source": [
    "!pip install -U flwr[simulation]\n"
   ]
  },
  {
   "cell_type": "code",
   "execution_count": 27,
   "id": "bacaa2a8-c17f-429f-8206-935f41034af4",
   "metadata": {},
   "outputs": [
    {
     "ename": "ImportError",
     "evalue": "Unable to import module `ray`.\n\nTo install the necessary dependencies, install `flwr` with the `simulation` extra:\n\n    pip install -U \"flwr[simulation]\"\n",
     "output_type": "error",
     "traceback": [
      "\u001b[1;31m---------------------------------------------------------------------------\u001b[0m",
      "\u001b[1;31mImportError\u001b[0m                               Traceback (most recent call last)",
      "Cell \u001b[1;32mIn[27], line 7\u001b[0m\n\u001b[0;32m      4\u001b[0m     test_loader \u001b[38;5;241m=\u001b[39m DataLoader(dataset, batch_size\u001b[38;5;241m=\u001b[39m\u001b[38;5;241m32\u001b[39m)  \u001b[38;5;66;03m# Shared test loader\u001b[39;00m\n\u001b[0;32m      5\u001b[0m     \u001b[38;5;28;01mreturn\u001b[39;00m VehicleClient(model, train_loader, test_loader)\n\u001b[1;32m----> 7\u001b[0m fl\u001b[38;5;241m.\u001b[39msimulation\u001b[38;5;241m.\u001b[39mstart_simulation(\n\u001b[0;32m      8\u001b[0m     client_fn\u001b[38;5;241m=\u001b[39mclient_fn,\n\u001b[0;32m      9\u001b[0m     num_clients\u001b[38;5;241m=\u001b[39m\u001b[38;5;241m5\u001b[39m,\n\u001b[0;32m     10\u001b[0m     config\u001b[38;5;241m=\u001b[39mfl\u001b[38;5;241m.\u001b[39mserver\u001b[38;5;241m.\u001b[39mServerConfig(num_rounds\u001b[38;5;241m=\u001b[39m\u001b[38;5;241m3\u001b[39m),\n\u001b[0;32m     11\u001b[0m )\n",
      "File \u001b[1;32m~\\Desktop\\New folder\\Lib\\site-packages\\flwr\\simulation\\__init__.py:38\u001b[0m, in \u001b[0;36mstart_simulation\u001b[1;34m(*args, **kwargs)\u001b[0m\n\u001b[0;32m     36\u001b[0m \u001b[38;5;28;01mdef\u001b[39;00m \u001b[38;5;21mstart_simulation\u001b[39m(\u001b[38;5;241m*\u001b[39margs, \u001b[38;5;241m*\u001b[39m\u001b[38;5;241m*\u001b[39mkwargs):  \u001b[38;5;66;03m# type: ignore\u001b[39;00m\n\u001b[0;32m     37\u001b[0m \u001b[38;5;250m    \u001b[39m\u001b[38;5;124;03m\"\"\"Log error stating that module `ray` could not be imported.\"\"\"\u001b[39;00m\n\u001b[1;32m---> 38\u001b[0m     \u001b[38;5;28;01mraise\u001b[39;00m \u001b[38;5;167;01mImportError\u001b[39;00m(RAY_IMPORT_ERROR)\n",
      "\u001b[1;31mImportError\u001b[0m: Unable to import module `ray`.\n\nTo install the necessary dependencies, install `flwr` with the `simulation` extra:\n\n    pip install -U \"flwr[simulation]\"\n"
     ]
    }
   ],
   "source": [
    "\n",
    "def client_fn(cid):\n",
    "    model = CNN()\n",
    "    train_loader = DataLoader(client_datasets[int(cid)], batch_size=32, shuffle=True)\n",
    "    test_loader = DataLoader(dataset, batch_size=32)  # Shared test loader\n",
    "    return VehicleClient(model, train_loader, test_loader)\n",
    "\n",
    "fl.simulation.start_simulation(\n",
    "    client_fn=client_fn,\n",
    "    num_clients=5,\n",
    "    config=fl.server.ServerConfig(num_rounds=3),\n",
    ")\n"
   ]
  },
  {
   "cell_type": "code",
   "execution_count": 1,
   "id": "26e8c092-b67b-42ae-80a4-6e70ef399873",
   "metadata": {},
   "outputs": [
    {
     "name": "stdout",
     "output_type": "stream",
     "text": [
      "Requirement already satisfied: psutil in c:\\users\\hp\\desktop\\new folder\\lib\\site-packages (5.9.0)\n"
     ]
    }
   ],
   "source": [
    "!pip install psutil\n"
   ]
  },
  {
   "cell_type": "code",
   "execution_count": 2,
   "id": "0c8e3981-30e7-4091-b120-472fe3ec20b5",
   "metadata": {},
   "outputs": [
    {
     "name": "stdout",
     "output_type": "stream",
     "text": [
      "Notebook is using approximately 73.20 MB of RAM\n"
     ]
    }
   ],
   "source": [
    "import psutil\n",
    "\n",
    "# Get memory usage in MB\n",
    "mem = psutil.Process().memory_info().rss / 1024 / 1024\n",
    "print(f\"Notebook is using approximately {mem:.2f} MB of RAM\")\n"
   ]
  },
  {
   "cell_type": "code",
   "execution_count": 6,
   "id": "f68cf522-deab-4cc6-9390-54e2d38bd61d",
   "metadata": {},
   "outputs": [
    {
     "name": "stdout",
     "output_type": "stream",
     "text": [
      "Total: 952 GB\n",
      "Used: 109 GB\n",
      "Free: 843 GB\n"
     ]
    }
   ],
   "source": [
    "import shutil\n",
    "\n",
    "total, used, free = shutil.disk_usage(\"/\")\n",
    "\n",
    "print(f\"Total: {total // (2**30)} GB\")\n",
    "print(f\"Used: {used // (2**30)} GB\")\n",
    "print(f\"Free: {free // (2**30)} GB\")\n"
   ]
  },
  {
   "cell_type": "code",
   "execution_count": 14,
   "id": "b2646f69-0558-48c2-9d1f-6b103380959b",
   "metadata": {},
   "outputs": [
    {
     "name": "stdout",
     "output_type": "stream",
     "text": [
      "Sat May 17 15:13:01 2025       \n",
      "+-----------------------------------------------------------------------------------------+\n",
      "| NVIDIA-SMI 552.74                 Driver Version: 552.74         CUDA Version: 12.4     |\n",
      "|-----------------------------------------+------------------------+----------------------+\n",
      "| GPU  Name                     TCC/WDDM  | Bus-Id          Disp.A | Volatile Uncorr. ECC |\n",
      "| Fan  Temp   Perf          Pwr:Usage/Cap |           Memory-Usage | GPU-Util  Compute M. |\n",
      "|                                         |                        |               MIG M. |\n",
      "|=========================================+========================+======================|\n",
      "|   0  NVIDIA RTX A5000             WDDM  |   00000000:47:00.0  On |                  Off |\n",
      "| 30%   34C    P8             13W /  230W |     924MiB /  24564MiB |     10%      Default |\n",
      "|                                         |                        |                  N/A |\n",
      "+-----------------------------------------+------------------------+----------------------+\n",
      "|   1  NVIDIA RTX A5000             WDDM  |   00000000:5E:00.0 Off |                  Off |\n",
      "| 30%   30C    P8              5W /  230W |       0MiB /  24564MiB |      0%      Default |\n",
      "|                                         |                        |                  N/A |\n",
      "+-----------------------------------------+------------------------+----------------------+\n",
      "                                                                                         \n",
      "+-----------------------------------------------------------------------------------------+\n",
      "| Processes:                                                                              |\n",
      "|  GPU   GI   CI        PID   Type   Process name                              GPU Memory |\n",
      "|        ID   ID                                                               Usage      |\n",
      "|=========================================================================================|\n",
      "|    0   N/A  N/A      1912    C+G   ...siveControlPanel\\SystemSettings.exe      N/A      |\n",
      "|    0   N/A  N/A      2828    C+G   ...ekyb3d8bbwe\\PhoneExperienceHost.exe      N/A      |\n",
      "|    0   N/A  N/A      6156    C+G   ...t.LockApp_cw5n1h2txyewy\\LockApp.exe      N/A      |\n",
      "|    0   N/A  N/A      6192    C+G   C:\\Windows\\explorer.exe                     N/A      |\n",
      "|    0   N/A  N/A      9636    C+G   ...crosoft\\Edge\\Application\\msedge.exe      N/A      |\n",
      "|    0   N/A  N/A     12576    C+G   ...nt.CBS_cw5n1h2txyewy\\SearchHost.exe      N/A      |\n",
      "|    0   N/A  N/A     12604    C+G   ...2txyewy\\StartMenuExperienceHost.exe      N/A      |\n",
      "|    0   N/A  N/A     13848    C+G   C:\\Windows\\System32\\ShellHost.exe           N/A      |\n",
      "|    0   N/A  N/A     16628    C+G   ...on\\136.0.3240.64\\msedgewebview2.exe      N/A      |\n",
      "|    0   N/A  N/A     17100    C+G   ...cal\\Microsoft\\OneDrive\\OneDrive.exe      N/A      |\n",
      "|    0   N/A  N/A     17268    C+G   ...ta\\Local\\Programs\\Notion\\Notion.exe      N/A      |\n",
      "|    0   N/A  N/A     17460    C+G   ...06.0_x64__v10z8vjag6ke6\\HP.myHP.exe      N/A      |\n",
      "|    0   N/A  N/A     18652    C+G   ...93.0_x64__8wekyb3d8bbwe\\Copilot.exe      N/A      |\n",
      "|    0   N/A  N/A     18728    C+G   ..._x64__8wekyb3d8bbwe\\WebViewHost.exe      N/A      |\n",
      "|    0   N/A  N/A     19272    C+G   ...5n1h2txyewy\\ShellExperienceHost.exe      N/A      |\n",
      "|    0   N/A  N/A     20156    C+G   ...__8wekyb3d8bbwe\\Notepad\\Notepad.exe      N/A      |\n",
      "|    0   N/A  N/A     21448    C+G   ...Brave-Browser\\Application\\brave.exe      N/A      |\n",
      "|    0   N/A  N/A     21792    C+G   ...Brave-Browser\\Application\\brave.exe      N/A      |\n",
      "|    0   N/A  N/A     24416    C+G   ...s\\System32\\ApplicationFrameHost.exe      N/A      |\n",
      "|    0   N/A  N/A     24432    C+G   ...crosoft\\Edge\\Application\\msedge.exe      N/A      |\n",
      "+-----------------------------------------------------------------------------------------+\n"
     ]
    }
   ],
   "source": [
    "!nvidia-smi\n"
   ]
  },
  {
   "cell_type": "code",
   "execution_count": 11,
   "id": "d37dce1f-5b73-45e5-8f3c-c6c407969eb1",
   "metadata": {},
   "outputs": [
    {
     "name": "stdout",
     "output_type": "stream",
     "text": [
      "Total RAM: 63.65 GB\n"
     ]
    }
   ],
   "source": [
    "import psutil\n",
    "print(f\"Total RAM: {psutil.virtual_memory().total / (1024**3):.2f} GB\")\n"
   ]
  },
  {
   "cell_type": "code",
   "execution_count": null,
   "id": "bc9eefee-1d8a-4e8b-af40-09ceb30dad5c",
   "metadata": {},
   "outputs": [],
   "source": [
    "!pip install psutil"
   ]
  },
  {
   "cell_type": "code",
   "execution_count": 24,
   "id": "4528dbe4-77ec-47c5-8567-f5ae961e7923",
   "metadata": {},
   "outputs": [
    {
     "name": "stdout",
     "output_type": "stream",
     "text": [
      "RAM Usage: 42.04 GB / 63.65 GB\n",
      "Available: 21.61 GB\n",
      "CPU Usage: 2.0%\n"
     ]
    }
   ],
   "source": [
    "\n",
    "import psutil\n",
    "\n",
    "def system_status():\n",
    "    ram = psutil.virtual_memory()\n",
    "    print(f\"RAM Usage: {ram.used / (1024**3):.2f} GB / {ram.total / (1024**3):.2f} GB\")\n",
    "    print(f\"Available: {ram.available / (1024**3):.2f} GB\")\n",
    "    print(f\"CPU Usage: {psutil.cpu_percent()}%\")\n",
    "\n",
    "system_status()\n"
   ]
  },
  {
   "cell_type": "code",
   "execution_count": 9,
   "id": "e4ecdfbb-34b0-4a46-8d9c-8feda5a50703",
   "metadata": {},
   "outputs": [
    {
     "name": "stdout",
     "output_type": "stream",
     "text": [
      "python.exe\n",
      "1.6\n"
     ]
    }
   ],
   "source": [
    "print(psutil.Process().name())\n",
    "print(psutil.Process().cpu_percent(interval=1.0))\n"
   ]
  },
  {
   "cell_type": "code",
   "execution_count": 5,
   "id": "1e4d66fc-aa06-4443-94c0-4f898b9b9e6b",
   "metadata": {},
   "outputs": [
    {
     "name": "stdout",
     "output_type": "stream",
     "text": [
      "❌ GPU is NOT available.\n"
     ]
    }
   ],
   "source": [
    "import torch\n",
    "\n",
    "if torch.cuda.is_available():\n",
    "    print(\"✅ GPU is available!\")\n",
    "    print(f\"GPU Name: {torch.cuda.get_device_name(0)}\")\n",
    "else:\n",
    "    print(\"❌ GPU is NOT available.\")\n"
   ]
  },
  {
   "cell_type": "code",
   "execution_count": 4,
   "id": "f1790772-366e-4408-8eeb-d4bd5e2ffee0",
   "metadata": {},
   "outputs": [
    {
     "name": "stdout",
     "output_type": "stream",
     "text": [
      "GPU Available: False\n",
      "GPU Name: No GPU\n"
     ]
    }
   ],
   "source": [
    "import torch\n",
    "print(\"GPU Available:\", torch.cuda.is_available())\n",
    "print(\"GPU Name:\", torch.cuda.get_device_name(0) if torch.cuda.is_available() else \"No GPU\")\n"
   ]
  },
  {
   "cell_type": "code",
   "execution_count": 6,
   "id": "d8e75d6c-f219-4e33-8187-54977f91f820",
   "metadata": {},
   "outputs": [
    {
     "ename": "NameError",
     "evalue": "name 'nvidia' is not defined",
     "output_type": "error",
     "traceback": [
      "\u001b[1;31m---------------------------------------------------------------------------\u001b[0m",
      "\u001b[1;31mNameError\u001b[0m                                 Traceback (most recent call last)",
      "Cell \u001b[1;32mIn[6], line 1\u001b[0m\n\u001b[1;32m----> 1\u001b[0m nvidia\u001b[38;5;241m-\u001b[39msmi\n",
      "\u001b[1;31mNameError\u001b[0m: name 'nvidia' is not defined"
     ]
    }
   ],
   "source": [
    "nvidia-smi\n"
   ]
  },
  {
   "cell_type": "code",
   "execution_count": 7,
   "id": "e2dd7280-8a51-46e6-88a4-c4bc4c7ccbe7",
   "metadata": {},
   "outputs": [
    {
     "name": "stdout",
     "output_type": "stream",
     "text": [
      "2.7.0+cpu\n"
     ]
    }
   ],
   "source": [
    "import torch\n",
    "print(torch.__version__)\n"
   ]
  },
  {
   "cell_type": "code",
   "execution_count": 1,
   "id": "6800b949-3a31-492f-b760-85edaaaad06e",
   "metadata": {},
   "outputs": [
    {
     "name": "stdout",
     "output_type": "stream",
     "text": [
      "GPU Available: True\n",
      "GPU Name: NVIDIA RTX A5000\n"
     ]
    }
   ],
   "source": [
    "import torch\n",
    "print(\"GPU Available:\", torch.cuda.is_available())\n",
    "print(\"GPU Name:\", torch.cuda.get_device_name(0) if torch.cuda.is_available() else \"No GPU\")\n"
   ]
  },
  {
   "cell_type": "code",
   "execution_count": null,
   "id": "be6c6c93-4be2-4345-a4ce-c16f42cad1f6",
   "metadata": {},
   "outputs": [],
   "source": []
  }
 ],
 "metadata": {
  "kernelspec": {
   "display_name": "Python 3 (ipykernel)",
   "language": "python",
   "name": "python3"
  },
  "language_info": {
   "codemirror_mode": {
    "name": "ipython",
    "version": 3
   },
   "file_extension": ".py",
   "mimetype": "text/x-python",
   "name": "python",
   "nbconvert_exporter": "python",
   "pygments_lexer": "ipython3",
   "version": "3.12.7"
  }
 },
 "nbformat": 4,
 "nbformat_minor": 5
}
