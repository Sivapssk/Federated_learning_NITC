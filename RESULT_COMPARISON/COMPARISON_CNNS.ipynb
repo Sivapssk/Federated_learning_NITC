{
 "cells": [
  {
   "cell_type": "code",
   "execution_count": null,
   "id": "897a11ff-b3fa-4dc2-a3a5-9b9b4fcb7e9f",
   "metadata": {},
   "outputs": [],
   "source": []
  },
  {
   "cell_type": "code",
   "execution_count": 2,
   "id": "736d3a73-acf9-41c9-8f4b-c02898c7bbbe",
   "metadata": {},
   "outputs": [
    {
     "name": "stdout",
     "output_type": "stream",
     "text": [
      "Plots saved in C:\\Users\\hp\\Desktop\\fedavg\\RESULT_COMPARISON\\COMPISION_BTW_CNNS\n"
     ]
    }
   ],
   "source": [
    "import pandas as pd\n",
    "import matplotlib.pyplot as plt\n",
    "import os\n",
    "\n",
    "# Define file paths and their corresponding names\n",
    "file_paths = {\n",
    "    \"CNN_IID\": r\"C:\\Users\\hp\\Desktop\\fedavg\\RESULT_COMPARISON\\cnn2_128_vehicle_rgb_sgd_500samples.csv\",\n",
    "    \"CNN_NON_IID\": r\"C:\\Users\\hp\\Desktop\\fedavg\\RESULT_COMPARISON\\cnn2_128_500_vehicle_rgb_sgd_non_iid_ANO_DIST.csv\",\n",
    "    \"NON_IID_CONVERTED_BY_DATASHUFFLING\": r\"C:\\Users\\hp\\Desktop\\fedavg\\RESULT_COMPARISON\\cnn2_128_500_vehicle_rgb_sgd_noniid_converted_iid_bydatashuffling.csv\",\n",
    "    \"NON_IID_CONVERTED_BY_LATENTVECTOR_DATASHUFFLING\":r\"C:\\Users\\hp\\Desktop\\fedavg\\RESULT_COMPARISON\\cnn2_128_500_vehicle_rgb_sgd_noniid_by_lv_decodershuffling_changed_metrics_2.csv\"\n",
    "}\n",
    "\n",
    "# Create output directory for plots\n",
    "output_dir = r\"C:\\Users\\hp\\Desktop\\fedavg\\RESULT_COMPARISON\\COMPISION_BTW_CNNS\"\n",
    "if not os.path.exists(output_dir):\n",
    "    os.makedirs(output_dir)\n",
    "\n",
    "# Initialize lists to store data\n",
    "accuracy_data = {}\n",
    "loss_data = {}\n",
    "\n",
    "# Read and process each CSV file\n",
    "for name, path in file_paths.items():\n",
    "    try:\n",
    "        df = pd.read_csv(path)\n",
    "        # Assuming columns are named 'Round', 'Accuracy', and 'Loss'\n",
    "        # Adjust column names if necessary\n",
    "        if 'Communication Rounds' in df.columns and 'Global Accuracies' in df.columns and 'Global Losses' in df.columns:\n",
    "            accuracy_data[name] = df['Global Accuracies'][:100]  # Limit to 100 rounds\n",
    "            loss_data[name] = df['Global Losses'][:100]\n",
    "        else:\n",
    "            print(f\"Warning: Required columns not found in {name}. Available columns: {df.columns}\")\n",
    "    except Exception as e:\n",
    "        print(f\"Error reading {name}: {e}\")\n",
    "\n",
    "# Plot Global Accuracy\n",
    "plt.figure(figsize=(10, 6))\n",
    "for name, acc in accuracy_data.items():\n",
    "    plt.plot(range(1, 101), acc, label=name, linewidth=2)\n",
    "plt.title('Global Accuracy Comparison Over 100 Rounds', fontsize=14)\n",
    "plt.xlabel('Communication Rounds', fontsize=12)\n",
    "plt.ylabel('Global Accuracies', fontsize=12)\n",
    "plt.legend()\n",
    "plt.grid(True)\n",
    "plt.savefig(os.path.join(output_dir, 'Global_Accuracy_Comparison.png'))\n",
    "plt.close()\n",
    "\n",
    "# Plot Global Loss\n",
    "plt.figure(figsize=(10, 6))\n",
    "for name, loss in loss_data.items():\n",
    "    plt.plot(range(1, 101), loss, label=name, linewidth=2)\n",
    "plt.title('Global Loss Comparison Over 100 Rounds', fontsize=14)\n",
    "plt.xlabel('Communication Rounds', fontsize=12)\n",
    "plt.ylabel('Global Losses', fontsize=12)\n",
    "plt.legend()\n",
    "plt.grid(True)\n",
    "plt.savefig(os.path.join(output_dir, 'Global_Loss_Comparison.png'))\n",
    "plt.close()\n",
    "\n",
    "print(f\"Plots saved in {output_dir}\")"
   ]
  },
  {
   "cell_type": "code",
   "execution_count": null,
   "id": "76592750-cc54-4356-8f85-dbc30407511a",
   "metadata": {},
   "outputs": [],
   "source": []
  }
 ],
 "metadata": {
  "kernelspec": {
   "display_name": "Python 3 (ipykernel)",
   "language": "python",
   "name": "python3"
  },
  "language_info": {
   "codemirror_mode": {
    "name": "ipython",
    "version": 3
   },
   "file_extension": ".py",
   "mimetype": "text/x-python",
   "name": "python",
   "nbconvert_exporter": "python",
   "pygments_lexer": "ipython3",
   "version": "3.12.3"
  }
 },
 "nbformat": 4,
 "nbformat_minor": 5
}
